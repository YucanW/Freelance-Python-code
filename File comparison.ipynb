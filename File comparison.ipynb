{
 "cells": [
  {
   "cell_type": "code",
   "execution_count": 34,
   "id": "1d746b43",
   "metadata": {},
   "outputs": [
    {
     "name": "stdout",
     "output_type": "stream",
     "text": [
      "['', '', '1.1-1.5：毖 壤', '1.11：签 孪 盫 軼 膚 摳', '1.12：宁 寂', '1.13：禸 镯 網 珝', '1.15：斓 菒 嘳 懅 屪 謇', '1.16：瓜 旷 鼊 獊 镵 緶', '1.17：屯 蠥 砷 椭 崰 ', '1.18：筩 螒 鐖 嵏', '1.20 召 緝 刺骨', '1.21-1.24：殆（22）浃（23）屛（22）溌（23以前）搹（23）飼（21）樧（23）緝（22以前）翰（24）', '1.25：栄 秿  霂 犞 鶇 蠥 鸌', '1.5-1.10： 犋 餡（1.7） 灑（1.6）粆（1.7）', '1.9：囜 黁 恌 憄', '12.10：蝕  ', '12.21：唅 ', '12.22-12.31：懝 ', 'Q区：  ', '七天前：芅 蝑', '不知道： 邲 炮 喅 腚 裙 圓 魢 槺 熛 趨 ', '未扫到： 屯']\n"
     ]
    }
   ],
   "source": [
    "import sys\n",
    "Qsingle=[]\n",
    "Qsingle_2 = []\n",
    "with open('Q区单字.txt','r') as f:     #第一个文档，被对比的参考文档，使用的话，txt文件需要和这个代码文件存储位置相同\n",
    "    #更换文件的话，更换‘’内的内容，即：Q区单字.txt，将其更换成新的文件的名字即可，必须是txt文件\n",
    "    for line in f:\n",
    "        Qsingle.append(list(line.strip('\\n').split(',')))\n",
    "    for i in Qsingle:\n",
    "        Qsingle_2.append(i[0])\n",
    "#        print(i[0])\n",
    "Qsingle_2.sort()\n",
    "print(Qsingle_2)"
   ]
  },
  {
   "cell_type": "code",
   "execution_count": 37,
   "id": "42a107c0",
   "metadata": {},
   "outputs": [
    {
     "data": {
      "text/plain": [
       "['',\n",
       " '',\n",
       " '1.1-1.5',\n",
       " '毖',\n",
       " '壤',\n",
       " '1.11',\n",
       " '签',\n",
       " '孪',\n",
       " '盫',\n",
       " '軼',\n",
       " '膚',\n",
       " '摳',\n",
       " '1.12',\n",
       " '宁',\n",
       " '寂',\n",
       " '1.13',\n",
       " '禸',\n",
       " '镯',\n",
       " '網',\n",
       " '珝',\n",
       " '1.15',\n",
       " '斓',\n",
       " '菒',\n",
       " '嘳',\n",
       " '懅',\n",
       " '屪',\n",
       " '謇',\n",
       " '1.16',\n",
       " '瓜',\n",
       " '旷',\n",
       " '鼊',\n",
       " '獊',\n",
       " '镵',\n",
       " '緶',\n",
       " '1.17',\n",
       " '屯',\n",
       " '蠥',\n",
       " '砷',\n",
       " '椭',\n",
       " '崰',\n",
       " '',\n",
       " '1.18',\n",
       " '筩',\n",
       " '螒',\n",
       " '鐖',\n",
       " '嵏',\n",
       " '1.20',\n",
       " '召',\n",
       " '緝',\n",
       " '刺骨',\n",
       " '1.21-1.24',\n",
       " '殆',\n",
       " '22',\n",
       " '浃',\n",
       " '23',\n",
       " '屛',\n",
       " '22',\n",
       " '溌',\n",
       " '23以前',\n",
       " '搹',\n",
       " '23',\n",
       " '飼',\n",
       " '21',\n",
       " '樧',\n",
       " '23',\n",
       " '緝',\n",
       " '22以前',\n",
       " '翰',\n",
       " '24',\n",
       " '',\n",
       " '1.25',\n",
       " '栄',\n",
       " '秿',\n",
       " '',\n",
       " '霂',\n",
       " '犞',\n",
       " '鶇',\n",
       " '蠥',\n",
       " '鸌',\n",
       " '1.5-1.10',\n",
       " '',\n",
       " '犋',\n",
       " '餡',\n",
       " '1.7',\n",
       " '',\n",
       " '灑',\n",
       " '1.6',\n",
       " '粆',\n",
       " '1.7',\n",
       " '',\n",
       " '1.9',\n",
       " '囜',\n",
       " '黁',\n",
       " '恌',\n",
       " '憄',\n",
       " '12.10',\n",
       " '蝕',\n",
       " '',\n",
       " '',\n",
       " '12.21',\n",
       " '唅',\n",
       " '',\n",
       " '12.22-12.31',\n",
       " '懝',\n",
       " '',\n",
       " 'Q区',\n",
       " '',\n",
       " '',\n",
       " '',\n",
       " '七天前',\n",
       " '芅',\n",
       " '蝑',\n",
       " '不知道',\n",
       " '',\n",
       " '邲',\n",
       " '炮',\n",
       " '喅',\n",
       " '腚',\n",
       " '裙',\n",
       " '圓',\n",
       " '魢',\n",
       " '槺',\n",
       " '熛',\n",
       " '趨',\n",
       " '',\n",
       " '未扫到',\n",
       " '',\n",
       " '屯']"
      ]
     },
     "execution_count": 37,
     "metadata": {},
     "output_type": "execute_result"
    }
   ],
   "source": [
    "Qsingle_list = []\n",
    "for i in Qsingle_2:\n",
    "    mylist = i.split(\" \")\n",
    "    #print(mylist)\n",
    "    for i in mylist:\n",
    "        mylist2 = i.split(\"：\")\n",
    "        #print(mylist2)\n",
    "        for i in mylist2:\n",
    "            mylist3 = i.split(\"（\")\n",
    "            #print(mylist3)\n",
    "            for i in mylist3:\n",
    "                mylist4 = i.split(\"）\")\n",
    "                #print(mylist4)\n",
    "                for i in mylist4:\n",
    "                    Qsingle_list.append(i)\n",
    "Qsingle_list"
   ]
  },
  {
   "cell_type": "code",
   "execution_count": 39,
   "id": "88a133af",
   "metadata": {},
   "outputs": [
    {
     "name": "stdout",
     "output_type": "stream",
     "text": [
      "['嘳', '壤', '嬲', '憄', '懅', '懝', '斓', '槺', '樧', '灑', '熛', '犞', '盫', '緝', '緶', '翰', '膚', '蝑', '蝕', '螒', '蠥', '襑', '謇', '趨', '遯', '鐖', '镵', '霂', '驤', '魢', '鶇', '鸌', '黁', '鼊']\n"
     ]
    }
   ],
   "source": [
    "Qsingle_result=[]\n",
    "Qsingle_result2 = []\n",
    "with open('结果 (6).txt','r') as f:      #第二个文档，需要和第一个文档进行对比的文档，txt文件和代码文件存储位置相同\n",
    "    #更换文件，更换‘’内的内容，即：结果 (6).txt，输出结果就是存在在文件“结果 (6).txt”中但是不存在在“Q区单字.txt”中的内容\n",
    "    for line in f:\n",
    "        Qsingle_result.append(list(line.strip('\\n').split(',')))\n",
    "    for i in Qsingle_result:\n",
    "        Qsingle_result2.append(i[0])\n",
    "#        print(i[0])\n",
    "Qsingle_result2.sort()\n",
    "print(Qsingle_result2)"
   ]
  },
  {
   "cell_type": "code",
   "execution_count": 43,
   "id": "a821de54",
   "metadata": {},
   "outputs": [
    {
     "name": "stdout",
     "output_type": "stream",
     "text": [
      "['嬲', '襑', '遯', '驤']\n"
     ]
    }
   ],
   "source": [
    "Qsingle_different=[]\n",
    "unique = [y for y in Qsingle_result2 if y not in Qsingle_list]  # 在Qsingle_result2列表中而不在Qsingle_list列表中\n",
    "\n",
    "# 输出结果就是存在在文件“结果 (6).txt”中但是不存在在“Q区单字.txt”中的内容\n",
    "print(d)"
   ]
  },
  {
   "cell_type": "code",
   "execution_count": 44,
   "id": "a8ea9b7a",
   "metadata": {},
   "outputs": [
    {
     "name": "stdout",
     "output_type": "stream",
     "text": [
      "嬲\r\n",
      "襑\r\n",
      "遯\r\n",
      "驤\r\n"
     ]
    }
   ],
   "source": [
    "with open('Q单字结果.txt', 'w') as f:\n",
    "#新建txt文件，将字符写入txt文件，更改''中的文字，即：Q单字结果.txt，自定义文件名，后缀必须是：.txt\n",
    "    for i in unique:\n",
    "        print(i + '\\r')\n",
    "        f.write(i + '\\r')"
   ]
  },
  {
   "cell_type": "code",
   "execution_count": null,
   "id": "a1eb2646",
   "metadata": {},
   "outputs": [],
   "source": []
  }
 ],
 "metadata": {
  "kernelspec": {
   "display_name": "Python 3",
   "language": "python",
   "name": "python3"
  },
  "language_info": {
   "codemirror_mode": {
    "name": "ipython",
    "version": 3
   },
   "file_extension": ".py",
   "mimetype": "text/x-python",
   "name": "python",
   "nbconvert_exporter": "python",
   "pygments_lexer": "ipython3",
   "version": "3.8.8"
  }
 },
 "nbformat": 4,
 "nbformat_minor": 5
}
